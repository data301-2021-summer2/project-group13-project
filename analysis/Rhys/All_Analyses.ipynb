{
 "cells": [
  {
   "cell_type": "markdown",
   "id": "fc62166b-a7a9-40c2-aff7-5018b8a8248c",
   "metadata": {},
   "source": [
    "# Full Analysis\n",
    "This file runs all analyses associated with project group 13's dataset. To clarify, the research questions are as follows:\\\n",
    "Shalini: (RESEARCH QUESTION HERE)\\\n",
    "Rhys: How does substance type correlate to event type? (i.e., how do opioids and stimulants compare regarding event types?)"
   ]
  },
  {
   "cell_type": "markdown",
   "id": "fba6247f-4685-4e48-92f1-46b254a337cb",
   "metadata": {},
   "source": [
    "## Rhys' Analysis\n",
    "Substance use and event types:"
   ]
  },
  {
   "cell_type": "code",
   "execution_count": 1,
   "id": "e72cabd1-117c-412b-8a57-ac9822f8dd35",
   "metadata": {},
   "outputs": [
    {
     "name": "stderr",
     "output_type": "stream",
     "text": [
      "..\\scripts\\project_functions.py:44: FutureWarning: In a future version of pandas all arguments of DataFrame.drop except for the argument 'labels' will be keyword-only\n",
      "  df2 = ( df1\n"
     ]
    }
   ],
   "source": [
    "# importing libraries and functions\n",
    "import pandas as pd\n",
    "import numpy as np\n",
    "import seaborn as sns\n",
    "import matplotlib.pyplot as plt\n",
    "import os\n",
    "import sys\n",
    "sys.path.append('..')\n",
    "\n",
    "from pandas_profiling import ProfileReport\n",
    "from scripts import project_functions as pf "
   ]
  },
  {
   "cell_type": "code",
   "execution_count": 2,
   "id": "508caeb8-07df-46ad-b698-07c9cd7ea4d0",
   "metadata": {},
   "outputs": [
    {
     "name": "stdout",
     "output_type": "stream",
     "text": [
      "   Substance  Source                          Type of Event  Region  \\\n",
      "0          1  Deaths  Total apparent opioid toxicity deaths  Canada   \n",
      "1          1  Deaths  Total apparent opioid toxicity deaths  Canada   \n",
      "2          1  Deaths  Total apparent opioid toxicity deaths  Canada   \n",
      "3          1  Deaths  Total apparent opioid toxicity deaths  Canada   \n",
      "4          1  Deaths  Total apparent opioid toxicity deaths  Canada   \n",
      "\n",
      "   Event Category  \n",
      "0               1  \n",
      "1               1  \n",
      "2               1  \n",
      "3               1  \n",
      "4               1  \n"
     ]
    }
   ],
   "source": [
    "#load dataset\n",
    "df = pf.load_process_data('../../data/raw/SubstanceHarmsData.csv')\n",
    "print(df.head())"
   ]
  },
  {
   "cell_type": "code",
   "execution_count": null,
   "id": "be919f5f-773a-43bc-a133-285cbb7de342",
   "metadata": {},
   "outputs": [],
   "source": []
  }
 ],
 "metadata": {
  "kernelspec": {
   "display_name": "Python 3 (ipykernel)",
   "language": "python",
   "name": "python3"
  },
  "language_info": {
   "codemirror_mode": {
    "name": "ipython",
    "version": 3
   },
   "file_extension": ".py",
   "mimetype": "text/x-python",
   "name": "python",
   "nbconvert_exporter": "python",
   "pygments_lexer": "ipython3",
   "version": "3.8.5"
  }
 },
 "nbformat": 4,
 "nbformat_minor": 5
}
