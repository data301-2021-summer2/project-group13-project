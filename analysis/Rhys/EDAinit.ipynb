{
 "cells": [
  {
   "cell_type": "markdown",
   "id": "466ded32-6350-41fc-a3c2-105621b9dcb0",
   "metadata": {},
   "source": [
    "# Initial Analyses\n",
    "\n",
    "## Exploratory Data Analysis\n",
    "Checking basic information about the dataset (.head(), .shape, etc.) and the values in our columns. Surface level analysis (identifying correlations)"
   ]
  },
  {
   "cell_type": "code",
   "execution_count": 2,
   "id": "f5a0222d-993e-432c-9a9f-92617032cd43",
   "metadata": {},
   "outputs": [],
   "source": [
    "# importing libraries and functions\n",
    "import pandas as pd\n",
    "import numpy as np\n",
    "import seaborn as sns\n",
    "import matplotlib.pyplot as plt\n",
    "import os\n",
    "import sys\n",
    "sys.path.append('..')\n",
    "\n",
    "from pandas_profiling import ProfileReport\n",
    "from scripts import project_functions as pf "
   ]
  },
  {
   "cell_type": "code",
   "execution_count": 1,
   "id": "a4596557-c76b-410a-aa8d-8372a6622eaa",
   "metadata": {},
   "outputs": [
    {
     "ename": "NameError",
     "evalue": "name 'pf' is not defined",
     "output_type": "error",
     "traceback": [
      "\u001b[1;31m---------------------------------------------------------------------------\u001b[0m",
      "\u001b[1;31mNameError\u001b[0m                                 Traceback (most recent call last)",
      "\u001b[1;32m~\\AppData\\Local\\Temp/ipykernel_6628/2265605383.py\u001b[0m in \u001b[0;36m<module>\u001b[1;34m\u001b[0m\n\u001b[0;32m      1\u001b[0m \u001b[1;31m#load dataset\u001b[0m\u001b[1;33m\u001b[0m\u001b[1;33m\u001b[0m\u001b[1;33m\u001b[0m\u001b[0m\n\u001b[1;32m----> 2\u001b[1;33m \u001b[0mdf\u001b[0m \u001b[1;33m=\u001b[0m \u001b[0mpf\u001b[0m\u001b[1;33m.\u001b[0m\u001b[0mload_process_data\u001b[0m\u001b[1;33m(\u001b[0m\u001b[1;34m'../../data/raw/SubstanceHarmsData.csv'\u001b[0m\u001b[1;33m)\u001b[0m\u001b[1;33m\u001b[0m\u001b[1;33m\u001b[0m\u001b[0m\n\u001b[0m",
      "\u001b[1;31mNameError\u001b[0m: name 'pf' is not defined"
     ]
    }
   ],
   "source": [
    "#load dataset\n",
    "df = pf.load_process_data('../../data/raw/SubstanceHarmsData.csv')\n"
   ]
  },
  {
   "cell_type": "code",
   "execution_count": 10,
   "id": "18a4ea06-b6dd-4e40-b989-9f76332ad38f",
   "metadata": {},
   "outputs": [
    {
     "name": "stdout",
     "output_type": "stream",
     "text": [
      "  Substance  Source                          Type of Event  Region  \\\n",
      "0   Opioids  Deaths  Total apparent opioid toxicity deaths  Canada   \n",
      "1   Opioids  Deaths  Total apparent opioid toxicity deaths  Canada   \n",
      "2   Opioids  Deaths  Total apparent opioid toxicity deaths  Canada   \n",
      "3   Opioids  Deaths  Total apparent opioid toxicity deaths  Canada   \n",
      "4   Opioids  Deaths  Total apparent opioid toxicity deaths  Canada   \n",
      "\n",
      "   Event Category  \n",
      "0               1  \n",
      "1               1  \n",
      "2               1  \n",
      "3               1  \n",
      "4               1  \n"
     ]
    },
    {
     "data": {
      "text/plain": [
       "Text(0.5, 1.0, 'Correlation Matrix')"
      ]
     },
     "execution_count": 10,
     "metadata": {},
     "output_type": "execute_result"
    },
    {
     "data": {
      "image/png": "[encoded data removed]",
      "text/plain": [
       "<Figure size 576x396 with 2 Axes>"
      ]
     },
     "metadata": {},
     "output_type": "display_data"
    }
   ],
   "source": [
    "# correlation matrix (getting a basic understanding of correlations)\n",
    "print(df.head())\n",
    "correlation = df.corr()\n",
    "\n",
    "plt.figure()\n",
    "corr_plot = sns.heatmap(df.corr())\n",
    "corr_plot.set_title(\"Correlation Matrix\")"
   ]
  },
  {
   "cell_type": "code",
   "execution_count": null,
   "id": "1504c958-91dd-462a-8d64-c5f2af79390a",
   "metadata": {},
   "outputs": [],
   "source": []
  }
 ],
 "metadata": {
  "kernelspec": {
   "display_name": "Python 3 (ipykernel)",
   "language": "python",
   "name": "python3"
  },
  "language_info": {
   "codemirror_mode": {
    "name": "ipython",
    "version": 3
   },
   "file_extension": ".py",
   "mimetype": "text/x-python",
   "name": "python",
   "nbconvert_exporter": "python",
   "pygments_lexer": "ipython3",
   "version": "3.8.5"
  }
 },
 "nbformat": 4,
 "nbformat_minor": 5
}
