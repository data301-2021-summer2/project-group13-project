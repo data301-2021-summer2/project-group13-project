{
 "cells": [
  {
   "cell_type": "code",
   "execution_count": null,
   "id": "b19c17a9-e66c-4392-8c68-709beaaab3f3",
   "metadata": {},
   "outputs": [],
   "source": [
    "1) Rhys and i discussed and decided on a dataset\n",
    "2)After getting the dataset approved by Dr. Moovsi, we worked on the text for README.md files on a google doc\n",
    "3)Rhys accepted the original repository link and added all the text for the various READ.md files\n",
    "4)I cloned the link, pulled all the recent changes. \n",
    "5)I added the raw data, editted my intro. Pushed and committed these changes.\n",
    "6)Added and linked notebook .ipynb file"
   ]
  }
 ],
 "metadata": {
  "kernelspec": {
   "display_name": "Python 3",
   "language": "python",
   "name": "python3"
  },
  "language_info": {
   "codemirror_mode": {
    "name": "ipython",
    "version": 3
   },
   "file_extension": ".py",
   "mimetype": "text/x-python",
   "name": "python",
   "nbconvert_exporter": "python",
   "pygments_lexer": "ipython3",
   "version": "3.8.5"
  }
 },
 "nbformat": 4,
 "nbformat_minor": 5
}
